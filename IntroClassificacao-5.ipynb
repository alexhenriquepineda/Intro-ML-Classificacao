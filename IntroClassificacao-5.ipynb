{
 "cells": [
  {
   "cell_type": "markdown",
   "id": "5c810610",
   "metadata": {},
   "source": [
    "# IMPORTS"
   ]
  },
  {
   "cell_type": "code",
   "execution_count": 1,
   "id": "9a3cb0ee",
   "metadata": {
    "ExecuteTime": {
     "end_time": "2022-01-21T20:23:52.247913Z",
     "start_time": "2022-01-21T20:23:51.599373Z"
    }
   },
   "outputs": [],
   "source": [
    "import pandas as pd\n",
    "import seaborn as sns\n",
    "\n",
    "from datetime import datetime\n",
    "\n",
    "from sklearn.svm import LinearSVC\n",
    "from sklearn.metrics import accuracy_score\n",
    "from sklearn.model_selection import train_test_split\n",
    "from sklearn.preprocessing import StandardScaler"
   ]
  },
  {
   "cell_type": "markdown",
   "id": "6dbc54ce",
   "metadata": {},
   "source": [
    "# LOADING DATA"
   ]
  },
  {
   "cell_type": "code",
   "execution_count": 2,
   "id": "d25181c8",
   "metadata": {
    "ExecuteTime": {
     "end_time": "2022-01-21T20:23:52.922551Z",
     "start_time": "2022-01-21T20:23:52.249441Z"
    }
   },
   "outputs": [],
   "source": [
    "data = pd.read_csv('https://gist.githubusercontent.com/guilhermesilveira/4d1d4a16ccbf6ea4e0a64a38a24ec884/raw/afd05cb0c796d18f3f5a6537053ded308ba94bf7/car-prices.csv')"
   ]
  },
  {
   "cell_type": "markdown",
   "id": "4b30e50a",
   "metadata": {},
   "source": [
    "# DATA FILTERING AND FEATURE ENGINEERING"
   ]
  },
  {
   "cell_type": "code",
   "execution_count": 3,
   "id": "22a34298",
   "metadata": {
    "ExecuteTime": {
     "end_time": "2022-01-21T20:23:52.952617Z",
     "start_time": "2022-01-21T20:23:52.926430Z"
    }
   },
   "outputs": [
    {
     "data": {
      "text/html": [
       "<div>\n",
       "<style scoped>\n",
       "    .dataframe tbody tr th:only-of-type {\n",
       "        vertical-align: middle;\n",
       "    }\n",
       "\n",
       "    .dataframe tbody tr th {\n",
       "        vertical-align: top;\n",
       "    }\n",
       "\n",
       "    .dataframe thead th {\n",
       "        text-align: right;\n",
       "    }\n",
       "</style>\n",
       "<table border=\"1\" class=\"dataframe\">\n",
       "  <thead>\n",
       "    <tr style=\"text-align: right;\">\n",
       "      <th></th>\n",
       "      <th>Unnamed: 0</th>\n",
       "      <th>mileage_per_year</th>\n",
       "      <th>model_year</th>\n",
       "      <th>price</th>\n",
       "      <th>sold</th>\n",
       "    </tr>\n",
       "  </thead>\n",
       "  <tbody>\n",
       "    <tr>\n",
       "      <th>0</th>\n",
       "      <td>0</td>\n",
       "      <td>21801</td>\n",
       "      <td>2000</td>\n",
       "      <td>30941.02</td>\n",
       "      <td>yes</td>\n",
       "    </tr>\n",
       "    <tr>\n",
       "      <th>1</th>\n",
       "      <td>1</td>\n",
       "      <td>7843</td>\n",
       "      <td>1998</td>\n",
       "      <td>40557.96</td>\n",
       "      <td>yes</td>\n",
       "    </tr>\n",
       "    <tr>\n",
       "      <th>2</th>\n",
       "      <td>2</td>\n",
       "      <td>7109</td>\n",
       "      <td>2006</td>\n",
       "      <td>89627.50</td>\n",
       "      <td>no</td>\n",
       "    </tr>\n",
       "    <tr>\n",
       "      <th>3</th>\n",
       "      <td>3</td>\n",
       "      <td>26823</td>\n",
       "      <td>2015</td>\n",
       "      <td>95276.14</td>\n",
       "      <td>no</td>\n",
       "    </tr>\n",
       "    <tr>\n",
       "      <th>4</th>\n",
       "      <td>4</td>\n",
       "      <td>7935</td>\n",
       "      <td>2014</td>\n",
       "      <td>117384.68</td>\n",
       "      <td>yes</td>\n",
       "    </tr>\n",
       "  </tbody>\n",
       "</table>\n",
       "</div>"
      ],
      "text/plain": [
       "   Unnamed: 0  mileage_per_year  model_year      price sold\n",
       "0           0             21801        2000   30941.02  yes\n",
       "1           1              7843        1998   40557.96  yes\n",
       "2           2              7109        2006   89627.50   no\n",
       "3           3             26823        2015   95276.14   no\n",
       "4           4              7935        2014  117384.68  yes"
      ]
     },
     "execution_count": 3,
     "metadata": {},
     "output_type": "execute_result"
    }
   ],
   "source": [
    "data.head()"
   ]
  },
  {
   "cell_type": "code",
   "execution_count": null,
   "id": "10c6df95",
   "metadata": {
    "ExecuteTime": {
     "end_time": "2022-01-21T20:06:25.046188Z",
     "start_time": "2022-01-21T20:06:25.035133Z"
    }
   },
   "outputs": [],
   "source": []
  },
  {
   "cell_type": "code",
   "execution_count": 4,
   "id": "73277aa4",
   "metadata": {
    "ExecuteTime": {
     "end_time": "2022-01-21T20:23:52.963197Z",
     "start_time": "2022-01-21T20:23:52.955558Z"
    }
   },
   "outputs": [],
   "source": [
    "data['sold'] = data['sold'].apply(lambda x: 1 if x == 'yes' else 0)"
   ]
  },
  {
   "cell_type": "code",
   "execution_count": 5,
   "id": "8d3ce4cf",
   "metadata": {
    "ExecuteTime": {
     "end_time": "2022-01-21T20:23:52.972625Z",
     "start_time": "2022-01-21T20:23:52.964986Z"
    }
   },
   "outputs": [],
   "source": [
    "today = datetime.today().year\n",
    "data['car_age'] = today - data['model_year']"
   ]
  },
  {
   "cell_type": "code",
   "execution_count": 6,
   "id": "3cdec1fa",
   "metadata": {
    "ExecuteTime": {
     "end_time": "2022-01-21T20:23:52.978890Z",
     "start_time": "2022-01-21T20:23:52.973832Z"
    }
   },
   "outputs": [],
   "source": [
    "data['km_per_year'] = data['mileage_per_year'] * 1.60934"
   ]
  },
  {
   "cell_type": "code",
   "execution_count": 7,
   "id": "25c0da27",
   "metadata": {
    "ExecuteTime": {
     "end_time": "2022-01-21T20:23:52.987129Z",
     "start_time": "2022-01-21T20:23:52.980592Z"
    }
   },
   "outputs": [],
   "source": [
    "data = data.drop(columns=['Unnamed: 0', 'model_year', 'mileage_per_year'], axis=1)"
   ]
  },
  {
   "cell_type": "code",
   "execution_count": 8,
   "id": "0b679a05",
   "metadata": {
    "ExecuteTime": {
     "end_time": "2022-01-21T20:23:52.992681Z",
     "start_time": "2022-01-21T20:23:52.988348Z"
    }
   },
   "outputs": [],
   "source": [
    "x = data[['price', 'car_age', 'km_per_year']]\n",
    "y = data['sold']"
   ]
  },
  {
   "cell_type": "code",
   "execution_count": 9,
   "id": "d925b356",
   "metadata": {
    "ExecuteTime": {
     "end_time": "2022-01-21T20:23:53.252569Z",
     "start_time": "2022-01-21T20:23:52.993843Z"
    }
   },
   "outputs": [
    {
     "name": "stderr",
     "output_type": "stream",
     "text": [
      "/home/alex/.local/lib/python3.8/site-packages/sklearn/svm/_base.py:1206: ConvergenceWarning: Liblinear failed to converge, increase the number of iterations.\n",
      "  warnings.warn(\n"
     ]
    },
    {
     "data": {
      "text/plain": [
       "71.12"
      ]
     },
     "execution_count": 9,
     "metadata": {},
     "output_type": "execute_result"
    }
   ],
   "source": [
    "x_train, x_test, y_train, y_test = train_test_split(x, y, test_size=0.25, stratify=y)\n",
    "\n",
    "scaler = StandardScaler()\n",
    "scaler.fit(x_train)\n",
    "x_train = scaler.transform(x_train)\n",
    "x_test = scaler.transform(x_test)\n",
    "\n",
    "model = LinearSVC()\n",
    "model.fit(x_train, y_train)\n",
    "previsoes = model.predict(x_test)\n",
    "acuracia = accuracy_score(y_test, previsoes) * 100\n",
    "acuracia"
   ]
  },
  {
   "cell_type": "code",
   "execution_count": null,
   "id": "9f70eba1",
   "metadata": {},
   "outputs": [],
   "source": []
  }
 ],
 "metadata": {
  "hide_input": false,
  "kernelspec": {
   "display_name": "Python 3 (ipykernel)",
   "language": "python",
   "name": "python3"
  },
  "language_info": {
   "codemirror_mode": {
    "name": "ipython",
    "version": 3
   },
   "file_extension": ".py",
   "mimetype": "text/x-python",
   "name": "python",
   "nbconvert_exporter": "python",
   "pygments_lexer": "ipython3",
   "version": "3.8.10"
  },
  "toc": {
   "base_numbering": 1,
   "nav_menu": {},
   "number_sections": true,
   "sideBar": true,
   "skip_h1_title": false,
   "title_cell": "Table of Contents",
   "title_sidebar": "Contents",
   "toc_cell": false,
   "toc_position": {},
   "toc_section_display": true,
   "toc_window_display": false
  }
 },
 "nbformat": 4,
 "nbformat_minor": 5
}
