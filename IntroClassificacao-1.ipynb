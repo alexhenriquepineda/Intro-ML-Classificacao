{
 "cells": [
  {
   "cell_type": "markdown",
   "id": "0af1a589",
   "metadata": {},
   "source": [
    "# Introdução a Machine Learning e Modelos de Classificação "
   ]
  },
  {
   "cell_type": "code",
   "execution_count": 1,
   "id": "308ac9bc",
   "metadata": {
    "ExecuteTime": {
     "end_time": "2022-01-21T19:02:20.709783Z",
     "start_time": "2022-01-21T19:02:20.693880Z"
    }
   },
   "outputs": [],
   "source": [
    "#features (1 sim, 0 nao)\n",
    "#longo?\n",
    "#perna curta?\n",
    "#faz auau\n",
    "\n",
    "porco1 = [0, 1, 0]\n",
    "porco2 = [0, 1, 1]\n",
    "porco3 = [1, 1, 0]\n",
    "\n",
    "cachorro1 = [0, 1, 1]\n",
    "cachorro2 = [1, 0, 1]\n",
    "cachorro3 = [1, 1, 1]\n",
    "\n",
    "#1 => porco, 0 => cachorro\n",
    "x_train = [porco1, porco2, porco3, cachorro1, cachorro2, cachorro3]\n",
    "y_train = [1, 1, 1, 0, 0, 0] #labels\n"
   ]
  },
  {
   "cell_type": "code",
   "execution_count": 2,
   "id": "db651dbf",
   "metadata": {
    "ExecuteTime": {
     "end_time": "2022-01-21T19:02:21.432138Z",
     "start_time": "2022-01-21T19:02:20.986769Z"
    }
   },
   "outputs": [],
   "source": [
    "from sklearn.svm import LinearSVC"
   ]
  },
  {
   "cell_type": "code",
   "execution_count": 3,
   "id": "afacbf71",
   "metadata": {
    "ExecuteTime": {
     "end_time": "2022-01-21T19:02:21.441479Z",
     "start_time": "2022-01-21T19:02:21.433616Z"
    }
   },
   "outputs": [
    {
     "data": {
      "text/plain": [
       "LinearSVC()"
      ]
     },
     "execution_count": 3,
     "metadata": {},
     "output_type": "execute_result"
    }
   ],
   "source": [
    "model = LinearSVC()\n",
    "model.fit(x_train, y_train)"
   ]
  },
  {
   "cell_type": "code",
   "execution_count": 4,
   "id": "6f8f75a1",
   "metadata": {
    "ExecuteTime": {
     "end_time": "2022-01-21T19:02:21.644981Z",
     "start_time": "2022-01-21T19:02:21.638518Z"
    }
   },
   "outputs": [
    {
     "data": {
      "text/plain": [
       "array([0])"
      ]
     },
     "execution_count": 4,
     "metadata": {},
     "output_type": "execute_result"
    }
   ],
   "source": [
    "animal_misterioso = [1, 1, 1]\n",
    "model.predict([animal_misterioso])"
   ]
  },
  {
   "cell_type": "code",
   "execution_count": 5,
   "id": "1ba65356",
   "metadata": {
    "ExecuteTime": {
     "end_time": "2022-01-21T19:02:22.061961Z",
     "start_time": "2022-01-21T19:02:22.056647Z"
    }
   },
   "outputs": [],
   "source": [
    "misterio1 = [1, 1, 1]\n",
    "misterio2 = [1, 1, 0]\n",
    "misterio3 = [0, 1, 1]\n",
    "\n",
    "x_test = [misterio1, misterio2, misterio3]\n",
    "y_test = [0, 1, 1]\n",
    "\n"
   ]
  },
  {
   "cell_type": "code",
   "execution_count": 6,
   "id": "6af38bf1",
   "metadata": {
    "ExecuteTime": {
     "end_time": "2022-01-21T19:02:22.491899Z",
     "start_time": "2022-01-21T19:02:22.483409Z"
    }
   },
   "outputs": [],
   "source": [
    "previsoes = model.predict(x_test)"
   ]
  },
  {
   "cell_type": "code",
   "execution_count": 7,
   "id": "03672704",
   "metadata": {
    "ExecuteTime": {
     "end_time": "2022-01-21T19:02:22.817169Z",
     "start_time": "2022-01-21T19:02:22.807921Z"
    }
   },
   "outputs": [
    {
     "name": "stdout",
     "output_type": "stream",
     "text": [
      "A taxa de acerto é de 66.66666666666666\n"
     ]
    }
   ],
   "source": [
    "corretos = (previsoes == y_test).sum()\n",
    "total = len(x_test)\n",
    "taxa_de_acerto = corretos/total\n",
    "print(f'A taxa de acerto é de {taxa_de_acerto*100}')"
   ]
  },
  {
   "cell_type": "code",
   "execution_count": 8,
   "id": "311215d2",
   "metadata": {
    "ExecuteTime": {
     "end_time": "2022-01-21T19:02:23.182370Z",
     "start_time": "2022-01-21T19:02:23.173999Z"
    }
   },
   "outputs": [
    {
     "name": "stdout",
     "output_type": "stream",
     "text": [
      "A taxa de acerto é de 66.66666666666666\n"
     ]
    }
   ],
   "source": [
    "from sklearn.metrics import accuracy_score\n",
    "\n",
    "taxa_de_acerto = accuracy_score(y_test, previsoes)\n",
    "print(f'A taxa de acerto é de {taxa_de_acerto*100}')"
   ]
  }
 ],
 "metadata": {
  "hide_input": false,
  "kernelspec": {
   "display_name": "Python 3 (ipykernel)",
   "language": "python",
   "name": "python3"
  },
  "language_info": {
   "codemirror_mode": {
    "name": "ipython",
    "version": 3
   },
   "file_extension": ".py",
   "mimetype": "text/x-python",
   "name": "python",
   "nbconvert_exporter": "python",
   "pygments_lexer": "ipython3",
   "version": "3.8.10"
  },
  "toc": {
   "base_numbering": 1,
   "nav_menu": {},
   "number_sections": true,
   "sideBar": true,
   "skip_h1_title": false,
   "title_cell": "Table of Contents",
   "title_sidebar": "Contents",
   "toc_cell": false,
   "toc_position": {},
   "toc_section_display": true,
   "toc_window_display": false
  }
 },
 "nbformat": 4,
 "nbformat_minor": 5
}
