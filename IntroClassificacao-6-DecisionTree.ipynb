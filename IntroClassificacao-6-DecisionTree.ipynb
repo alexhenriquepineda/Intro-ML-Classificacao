{
 "cells": [
  {
   "cell_type": "markdown",
   "id": "5c810610",
   "metadata": {},
   "source": [
    "# IMPORTS"
   ]
  },
  {
   "cell_type": "code",
   "execution_count": 7,
   "id": "9a3cb0ee",
   "metadata": {
    "ExecuteTime": {
     "end_time": "2022-01-21T20:28:31.462714Z",
     "start_time": "2022-01-21T20:28:31.454350Z"
    }
   },
   "outputs": [],
   "source": [
    "import graphviz\n",
    "\n",
    "import pandas as pd\n",
    "import seaborn as sns\n",
    "\n",
    "from datetime import datetime\n",
    "\n",
    "from sklearn.svm import LinearSVC\n",
    "from sklearn.metrics import accuracy_score\n",
    "from sklearn.model_selection import train_test_split\n",
    "from sklearn.preprocessing import StandardScaler\n",
    "\n",
    "from sklearn.tree import export_graphviz\n",
    "from sklearn.tree import DecisionTreeClassifier"
   ]
  },
  {
   "cell_type": "markdown",
   "id": "6dbc54ce",
   "metadata": {},
   "source": [
    "# LOADING DATA"
   ]
  },
  {
   "cell_type": "code",
   "execution_count": 8,
   "id": "d25181c8",
   "metadata": {
    "ExecuteTime": {
     "end_time": "2022-01-21T20:28:32.673244Z",
     "start_time": "2022-01-21T20:28:31.998991Z"
    }
   },
   "outputs": [],
   "source": [
    "data = pd.read_csv('https://gist.githubusercontent.com/guilhermesilveira/4d1d4a16ccbf6ea4e0a64a38a24ec884/raw/afd05cb0c796d18f3f5a6537053ded308ba94bf7/car-prices.csv')"
   ]
  },
  {
   "cell_type": "markdown",
   "id": "4b30e50a",
   "metadata": {},
   "source": [
    "# DATA FILTERING AND FEATURE ENGINEERING"
   ]
  },
  {
   "cell_type": "code",
   "execution_count": 9,
   "id": "73277aa4",
   "metadata": {
    "ExecuteTime": {
     "end_time": "2022-01-21T20:28:32.682662Z",
     "start_time": "2022-01-21T20:28:32.675019Z"
    }
   },
   "outputs": [],
   "source": [
    "data['sold'] = data['sold'].apply(lambda x: 1 if x == 'yes' else 0)"
   ]
  },
  {
   "cell_type": "code",
   "execution_count": 10,
   "id": "8d3ce4cf",
   "metadata": {
    "ExecuteTime": {
     "end_time": "2022-01-21T20:28:32.881713Z",
     "start_time": "2022-01-21T20:28:32.876273Z"
    }
   },
   "outputs": [],
   "source": [
    "today = datetime.today().year\n",
    "data['car_age'] = today - data['model_year']"
   ]
  },
  {
   "cell_type": "code",
   "execution_count": 11,
   "id": "3cdec1fa",
   "metadata": {
    "ExecuteTime": {
     "end_time": "2022-01-21T20:28:33.207782Z",
     "start_time": "2022-01-21T20:28:33.199798Z"
    }
   },
   "outputs": [],
   "source": [
    "data['km_per_year'] = data['mileage_per_year'] * 1.60934"
   ]
  },
  {
   "cell_type": "code",
   "execution_count": 12,
   "id": "25c0da27",
   "metadata": {
    "ExecuteTime": {
     "end_time": "2022-01-21T20:28:33.486423Z",
     "start_time": "2022-01-21T20:28:33.472718Z"
    }
   },
   "outputs": [],
   "source": [
    "data = data.drop(columns=['Unnamed: 0', 'model_year', 'mileage_per_year'], axis=1)"
   ]
  },
  {
   "cell_type": "code",
   "execution_count": 13,
   "id": "0b679a05",
   "metadata": {
    "ExecuteTime": {
     "end_time": "2022-01-21T20:28:33.779847Z",
     "start_time": "2022-01-21T20:28:33.768634Z"
    }
   },
   "outputs": [],
   "source": [
    "x = data[['price', 'car_age', 'km_per_year']]\n",
    "y = data['sold']"
   ]
  },
  {
   "cell_type": "markdown",
   "id": "f5341251",
   "metadata": {},
   "source": [
    "# Modelling"
   ]
  },
  {
   "cell_type": "markdown",
   "id": "511d4cb2",
   "metadata": {},
   "source": [
    "## Support Vector Machine ( Linear SVC )"
   ]
  },
  {
   "cell_type": "code",
   "execution_count": 9,
   "id": "d925b356",
   "metadata": {
    "ExecuteTime": {
     "end_time": "2022-01-21T20:23:53.252569Z",
     "start_time": "2022-01-21T20:23:52.993843Z"
    }
   },
   "outputs": [
    {
     "name": "stderr",
     "output_type": "stream",
     "text": [
      "/home/alex/.local/lib/python3.8/site-packages/sklearn/svm/_base.py:1206: ConvergenceWarning: Liblinear failed to converge, increase the number of iterations.\n",
      "  warnings.warn(\n"
     ]
    },
    {
     "data": {
      "text/plain": [
       "71.12"
      ]
     },
     "execution_count": 9,
     "metadata": {},
     "output_type": "execute_result"
    }
   ],
   "source": [
    "x_train, x_test, y_train, y_test = train_test_split(x, y, test_size=0.25, stratify=y)\n",
    "\n",
    "scaler = StandardScaler()\n",
    "scaler.fit(x_train)\n",
    "x_train = scaler.transform(x_train)\n",
    "x_test = scaler.transform(x_test)\n",
    "\n",
    "model = LinearSVC()\n",
    "model.fit(x_train, y_train)\n",
    "previsoes = model.predict(x_test)\n",
    "acuracia = accuracy_score(y_test, previsoes) * 100\n",
    "acuracia"
   ]
  },
  {
   "cell_type": "markdown",
   "id": "a00fe2b0",
   "metadata": {},
   "source": [
    "## Decision Tree"
   ]
  },
  {
   "cell_type": "code",
   "execution_count": 28,
   "id": "caadc164",
   "metadata": {
    "ExecuteTime": {
     "end_time": "2022-01-21T20:42:39.234323Z",
     "start_time": "2022-01-21T20:42:39.217686Z"
    }
   },
   "outputs": [
    {
     "data": {
      "text/plain": [
       "78.24"
      ]
     },
     "execution_count": 28,
     "metadata": {},
     "output_type": "execute_result"
    }
   ],
   "source": [
    "x_train, x_test, y_train, y_test = train_test_split(x, y, test_size=0.25, stratify=y)\n",
    "\n",
    "model = DecisionTreeClassifier(max_depth=4)\n",
    "model.fit(x_train, y_train)\n",
    "previsoes = model.predict(x_test)\n",
    "acuracia = accuracy_score(y_test, previsoes) * 100\n",
    "acuracia"
   ]
  },
  {
   "cell_type": "code",
   "execution_count": 27,
   "id": "2a931429",
   "metadata": {
    "ExecuteTime": {
     "end_time": "2022-01-21T20:42:22.262808Z",
     "start_time": "2022-01-21T20:42:22.218345Z"
    }
   },
   "outputs": [
    {
     "data": {
      "image/svg+xml": [
       "<?xml version=\"1.0\" encoding=\"UTF-8\" standalone=\"no\"?>\n",
       "<!DOCTYPE svg PUBLIC \"-//W3C//DTD SVG 1.1//EN\"\n",
       " \"http://www.w3.org/Graphics/SVG/1.1/DTD/svg11.dtd\">\n",
       "<!-- Generated by graphviz version 2.43.0 (0)\n",
       " -->\n",
       "<!-- Title: Tree Pages: 1 -->\n",
       "<svg width=\"994pt\" height=\"433pt\"\n",
       " viewBox=\"0.00 0.00 994.00 433.00\" xmlns=\"http://www.w3.org/2000/svg\" xmlns:xlink=\"http://www.w3.org/1999/xlink\">\n",
       "<g id=\"graph0\" class=\"graph\" transform=\"scale(1 1) rotate(0) translate(4 429)\">\n",
       "<title>Tree</title>\n",
       "<polygon fill=\"white\" stroke=\"transparent\" points=\"-4,4 -4,-429 990,-429 990,4 -4,4\"/>\n",
       "<!-- 0 -->\n",
       "<g id=\"node1\" class=\"node\">\n",
       "<title>0</title>\n",
       "<path fill=\"#c8e4f8\" stroke=\"black\" d=\"M413.5,-425C413.5,-425 270.5,-425 270.5,-425 264.5,-425 258.5,-419 258.5,-413 258.5,-413 258.5,-354 258.5,-354 258.5,-348 264.5,-342 270.5,-342 270.5,-342 413.5,-342 413.5,-342 419.5,-342 425.5,-348 425.5,-354 425.5,-354 425.5,-413 425.5,-413 425.5,-419 419.5,-425 413.5,-425\"/>\n",
       "<text text-anchor=\"middle\" x=\"342\" y=\"-409.8\" font-family=\"Helvetica,sans-Serif\" font-size=\"14.00\">price &lt;= 59982.246</text>\n",
       "<text text-anchor=\"middle\" x=\"342\" y=\"-394.8\" font-family=\"Helvetica,sans-Serif\" font-size=\"14.00\">gini = 0.487</text>\n",
       "<text text-anchor=\"middle\" x=\"342\" y=\"-379.8\" font-family=\"Helvetica,sans-Serif\" font-size=\"14.00\">samples = 7500</text>\n",
       "<text text-anchor=\"middle\" x=\"342\" y=\"-364.8\" font-family=\"Helvetica,sans-Serif\" font-size=\"14.00\">value = [3150, 4350]</text>\n",
       "<text text-anchor=\"middle\" x=\"342\" y=\"-349.8\" font-family=\"Helvetica,sans-Serif\" font-size=\"14.00\">class = yes</text>\n",
       "</g>\n",
       "<!-- 1 -->\n",
       "<g id=\"node2\" class=\"node\">\n",
       "<title>1</title>\n",
       "<path fill=\"#52a9e8\" stroke=\"black\" d=\"M307.5,-306C307.5,-306 170.5,-306 170.5,-306 164.5,-306 158.5,-300 158.5,-294 158.5,-294 158.5,-235 158.5,-235 158.5,-229 164.5,-223 170.5,-223 170.5,-223 307.5,-223 307.5,-223 313.5,-223 319.5,-229 319.5,-235 319.5,-235 319.5,-294 319.5,-294 319.5,-300 313.5,-306 307.5,-306\"/>\n",
       "<text text-anchor=\"middle\" x=\"239\" y=\"-290.8\" font-family=\"Helvetica,sans-Serif\" font-size=\"14.00\">price &lt;= 40112.766</text>\n",
       "<text text-anchor=\"middle\" x=\"239\" y=\"-275.8\" font-family=\"Helvetica,sans-Serif\" font-size=\"14.00\">gini = 0.198</text>\n",
       "<text text-anchor=\"middle\" x=\"239\" y=\"-260.8\" font-family=\"Helvetica,sans-Serif\" font-size=\"14.00\">samples = 3264</text>\n",
       "<text text-anchor=\"middle\" x=\"239\" y=\"-245.8\" font-family=\"Helvetica,sans-Serif\" font-size=\"14.00\">value = [363, 2901]</text>\n",
       "<text text-anchor=\"middle\" x=\"239\" y=\"-230.8\" font-family=\"Helvetica,sans-Serif\" font-size=\"14.00\">class = yes</text>\n",
       "</g>\n",
       "<!-- 0&#45;&gt;1 -->\n",
       "<g id=\"edge1\" class=\"edge\">\n",
       "<title>0&#45;&gt;1</title>\n",
       "<path fill=\"none\" stroke=\"black\" d=\"M306.26,-341.91C298.28,-332.83 289.73,-323.12 281.49,-313.77\"/>\n",
       "<polygon fill=\"black\" stroke=\"black\" points=\"283.91,-311.21 274.67,-306.02 278.65,-315.84 283.91,-311.21\"/>\n",
       "<text text-anchor=\"middle\" x=\"273.08\" y=\"-327.27\" font-family=\"Helvetica,sans-Serif\" font-size=\"14.00\">True</text>\n",
       "</g>\n",
       "<!-- 6 -->\n",
       "<g id=\"node7\" class=\"node\">\n",
       "<title>6</title>\n",
       "<path fill=\"#f3c3a0\" stroke=\"black\" d=\"M603.5,-306C603.5,-306 412.5,-306 412.5,-306 406.5,-306 400.5,-300 400.5,-294 400.5,-294 400.5,-235 400.5,-235 400.5,-229 406.5,-223 412.5,-223 412.5,-223 603.5,-223 603.5,-223 609.5,-223 615.5,-229 615.5,-235 615.5,-235 615.5,-294 615.5,-294 615.5,-300 609.5,-306 603.5,-306\"/>\n",
       "<text text-anchor=\"middle\" x=\"508\" y=\"-290.8\" font-family=\"Helvetica,sans-Serif\" font-size=\"14.00\">km_per_year &lt;= 24124.006</text>\n",
       "<text text-anchor=\"middle\" x=\"508\" y=\"-275.8\" font-family=\"Helvetica,sans-Serif\" font-size=\"14.00\">gini = 0.45</text>\n",
       "<text text-anchor=\"middle\" x=\"508\" y=\"-260.8\" font-family=\"Helvetica,sans-Serif\" font-size=\"14.00\">samples = 4236</text>\n",
       "<text text-anchor=\"middle\" x=\"508\" y=\"-245.8\" font-family=\"Helvetica,sans-Serif\" font-size=\"14.00\">value = [2787, 1449]</text>\n",
       "<text text-anchor=\"middle\" x=\"508\" y=\"-230.8\" font-family=\"Helvetica,sans-Serif\" font-size=\"14.00\">class = no</text>\n",
       "</g>\n",
       "<!-- 0&#45;&gt;6 -->\n",
       "<g id=\"edge6\" class=\"edge\">\n",
       "<title>0&#45;&gt;6</title>\n",
       "<path fill=\"none\" stroke=\"black\" d=\"M399.59,-341.91C413.37,-332.2 428.18,-321.76 442.29,-311.81\"/>\n",
       "<polygon fill=\"black\" stroke=\"black\" points=\"444.35,-314.64 450.51,-306.02 440.32,-308.92 444.35,-314.64\"/>\n",
       "<text text-anchor=\"middle\" x=\"446.24\" y=\"-326.95\" font-family=\"Helvetica,sans-Serif\" font-size=\"14.00\">False</text>\n",
       "</g>\n",
       "<!-- 2 -->\n",
       "<g id=\"node3\" class=\"node\">\n",
       "<title>2</title>\n",
       "<path fill=\"#399de5\" stroke=\"black\" d=\"M128,-179.5C128,-179.5 12,-179.5 12,-179.5 6,-179.5 0,-173.5 0,-167.5 0,-167.5 0,-123.5 0,-123.5 0,-117.5 6,-111.5 12,-111.5 12,-111.5 128,-111.5 128,-111.5 134,-111.5 140,-117.5 140,-123.5 140,-123.5 140,-167.5 140,-167.5 140,-173.5 134,-179.5 128,-179.5\"/>\n",
       "<text text-anchor=\"middle\" x=\"70\" y=\"-164.3\" font-family=\"Helvetica,sans-Serif\" font-size=\"14.00\">gini = 0.0</text>\n",
       "<text text-anchor=\"middle\" x=\"70\" y=\"-149.3\" font-family=\"Helvetica,sans-Serif\" font-size=\"14.00\">samples = 1474</text>\n",
       "<text text-anchor=\"middle\" x=\"70\" y=\"-134.3\" font-family=\"Helvetica,sans-Serif\" font-size=\"14.00\">value = [0, 1474]</text>\n",
       "<text text-anchor=\"middle\" x=\"70\" y=\"-119.3\" font-family=\"Helvetica,sans-Serif\" font-size=\"14.00\">class = yes</text>\n",
       "</g>\n",
       "<!-- 1&#45;&gt;2 -->\n",
       "<g id=\"edge2\" class=\"edge\">\n",
       "<title>1&#45;&gt;2</title>\n",
       "<path fill=\"none\" stroke=\"black\" d=\"M180.37,-222.91C162.83,-210.77 143.66,-197.49 126.28,-185.46\"/>\n",
       "<polygon fill=\"black\" stroke=\"black\" points=\"128.12,-182.48 117.91,-179.67 124.14,-188.24 128.12,-182.48\"/>\n",
       "</g>\n",
       "<!-- 3 -->\n",
       "<g id=\"node4\" class=\"node\">\n",
       "<title>3</title>\n",
       "<path fill=\"#6bb6ec\" stroke=\"black\" d=\"M307.5,-187C307.5,-187 170.5,-187 170.5,-187 164.5,-187 158.5,-181 158.5,-175 158.5,-175 158.5,-116 158.5,-116 158.5,-110 164.5,-104 170.5,-104 170.5,-104 307.5,-104 307.5,-104 313.5,-104 319.5,-110 319.5,-116 319.5,-116 319.5,-175 319.5,-175 319.5,-181 313.5,-187 307.5,-187\"/>\n",
       "<text text-anchor=\"middle\" x=\"239\" y=\"-171.8\" font-family=\"Helvetica,sans-Serif\" font-size=\"14.00\">price &lt;= 40728.031</text>\n",
       "<text text-anchor=\"middle\" x=\"239\" y=\"-156.8\" font-family=\"Helvetica,sans-Serif\" font-size=\"14.00\">gini = 0.323</text>\n",
       "<text text-anchor=\"middle\" x=\"239\" y=\"-141.8\" font-family=\"Helvetica,sans-Serif\" font-size=\"14.00\">samples = 1790</text>\n",
       "<text text-anchor=\"middle\" x=\"239\" y=\"-126.8\" font-family=\"Helvetica,sans-Serif\" font-size=\"14.00\">value = [363, 1427]</text>\n",
       "<text text-anchor=\"middle\" x=\"239\" y=\"-111.8\" font-family=\"Helvetica,sans-Serif\" font-size=\"14.00\">class = yes</text>\n",
       "</g>\n",
       "<!-- 1&#45;&gt;3 -->\n",
       "<g id=\"edge3\" class=\"edge\">\n",
       "<title>1&#45;&gt;3</title>\n",
       "<path fill=\"none\" stroke=\"black\" d=\"M239,-222.91C239,-214.65 239,-205.86 239,-197.3\"/>\n",
       "<polygon fill=\"black\" stroke=\"black\" points=\"242.5,-197.02 239,-187.02 235.5,-197.02 242.5,-197.02\"/>\n",
       "</g>\n",
       "<!-- 4 -->\n",
       "<g id=\"node5\" class=\"node\">\n",
       "<title>4</title>\n",
       "<path fill=\"#b9dcf6\" stroke=\"black\" d=\"M129.5,-68C129.5,-68 22.5,-68 22.5,-68 16.5,-68 10.5,-62 10.5,-56 10.5,-56 10.5,-12 10.5,-12 10.5,-6 16.5,0 22.5,0 22.5,0 129.5,0 129.5,0 135.5,0 141.5,-6 141.5,-12 141.5,-12 141.5,-56 141.5,-56 141.5,-62 135.5,-68 129.5,-68\"/>\n",
       "<text text-anchor=\"middle\" x=\"76\" y=\"-52.8\" font-family=\"Helvetica,sans-Serif\" font-size=\"14.00\">gini = 0.477</text>\n",
       "<text text-anchor=\"middle\" x=\"76\" y=\"-37.8\" font-family=\"Helvetica,sans-Serif\" font-size=\"14.00\">samples = 56</text>\n",
       "<text text-anchor=\"middle\" x=\"76\" y=\"-22.8\" font-family=\"Helvetica,sans-Serif\" font-size=\"14.00\">value = [22, 34]</text>\n",
       "<text text-anchor=\"middle\" x=\"76\" y=\"-7.8\" font-family=\"Helvetica,sans-Serif\" font-size=\"14.00\">class = yes</text>\n",
       "</g>\n",
       "<!-- 3&#45;&gt;4 -->\n",
       "<g id=\"edge4\" class=\"edge\">\n",
       "<title>3&#45;&gt;4</title>\n",
       "<path fill=\"none\" stroke=\"black\" d=\"M178.3,-103.73C163.7,-93.92 148.14,-83.46 133.68,-73.75\"/>\n",
       "<polygon fill=\"black\" stroke=\"black\" points=\"135.56,-70.8 125.31,-68.13 131.66,-76.61 135.56,-70.8\"/>\n",
       "</g>\n",
       "<!-- 5 -->\n",
       "<g id=\"node6\" class=\"node\">\n",
       "<title>5</title>\n",
       "<path fill=\"#69b5eb\" stroke=\"black\" d=\"M306,-68C306,-68 172,-68 172,-68 166,-68 160,-62 160,-56 160,-56 160,-12 160,-12 160,-6 166,0 172,0 172,0 306,0 306,0 312,0 318,-6 318,-12 318,-12 318,-56 318,-56 318,-62 312,-68 306,-68\"/>\n",
       "<text text-anchor=\"middle\" x=\"239\" y=\"-52.8\" font-family=\"Helvetica,sans-Serif\" font-size=\"14.00\">gini = 0.316</text>\n",
       "<text text-anchor=\"middle\" x=\"239\" y=\"-37.8\" font-family=\"Helvetica,sans-Serif\" font-size=\"14.00\">samples = 1734</text>\n",
       "<text text-anchor=\"middle\" x=\"239\" y=\"-22.8\" font-family=\"Helvetica,sans-Serif\" font-size=\"14.00\">value = [341, 1393]</text>\n",
       "<text text-anchor=\"middle\" x=\"239\" y=\"-7.8\" font-family=\"Helvetica,sans-Serif\" font-size=\"14.00\">class = yes</text>\n",
       "</g>\n",
       "<!-- 3&#45;&gt;5 -->\n",
       "<g id=\"edge5\" class=\"edge\">\n",
       "<title>3&#45;&gt;5</title>\n",
       "<path fill=\"none\" stroke=\"black\" d=\"M239,-103.73C239,-95.52 239,-86.86 239,-78.56\"/>\n",
       "<polygon fill=\"black\" stroke=\"black\" points=\"242.5,-78.3 239,-68.3 235.5,-78.3 242.5,-78.3\"/>\n",
       "</g>\n",
       "<!-- 7 -->\n",
       "<g id=\"node8\" class=\"node\">\n",
       "<title>7</title>\n",
       "<path fill=\"#fcefe6\" stroke=\"black\" d=\"M579.5,-187C579.5,-187 436.5,-187 436.5,-187 430.5,-187 424.5,-181 424.5,-175 424.5,-175 424.5,-116 424.5,-116 424.5,-110 430.5,-104 436.5,-104 436.5,-104 579.5,-104 579.5,-104 585.5,-104 591.5,-110 591.5,-116 591.5,-116 591.5,-175 591.5,-175 591.5,-181 585.5,-187 579.5,-187\"/>\n",
       "<text text-anchor=\"middle\" x=\"508\" y=\"-171.8\" font-family=\"Helvetica,sans-Serif\" font-size=\"14.00\">price &lt;= 99971.117</text>\n",
       "<text text-anchor=\"middle\" x=\"508\" y=\"-156.8\" font-family=\"Helvetica,sans-Serif\" font-size=\"14.00\">gini = 0.498</text>\n",
       "<text text-anchor=\"middle\" x=\"508\" y=\"-141.8\" font-family=\"Helvetica,sans-Serif\" font-size=\"14.00\">samples = 2617</text>\n",
       "<text text-anchor=\"middle\" x=\"508\" y=\"-126.8\" font-family=\"Helvetica,sans-Serif\" font-size=\"14.00\">value = [1396, 1221]</text>\n",
       "<text text-anchor=\"middle\" x=\"508\" y=\"-111.8\" font-family=\"Helvetica,sans-Serif\" font-size=\"14.00\">class = no</text>\n",
       "</g>\n",
       "<!-- 6&#45;&gt;7 -->\n",
       "<g id=\"edge7\" class=\"edge\">\n",
       "<title>6&#45;&gt;7</title>\n",
       "<path fill=\"none\" stroke=\"black\" d=\"M508,-222.91C508,-214.65 508,-205.86 508,-197.3\"/>\n",
       "<polygon fill=\"black\" stroke=\"black\" points=\"511.5,-197.02 508,-187.02 504.5,-197.02 511.5,-197.02\"/>\n",
       "</g>\n",
       "<!-- 10 -->\n",
       "<g id=\"node11\" class=\"node\">\n",
       "<title>10</title>\n",
       "<path fill=\"#e99659\" stroke=\"black\" d=\"M821.5,-187C821.5,-187 684.5,-187 684.5,-187 678.5,-187 672.5,-181 672.5,-175 672.5,-175 672.5,-116 672.5,-116 672.5,-110 678.5,-104 684.5,-104 684.5,-104 821.5,-104 821.5,-104 827.5,-104 833.5,-110 833.5,-116 833.5,-116 833.5,-175 833.5,-175 833.5,-181 827.5,-187 821.5,-187\"/>\n",
       "<text text-anchor=\"middle\" x=\"753\" y=\"-171.8\" font-family=\"Helvetica,sans-Serif\" font-size=\"14.00\">price &lt;= 100087.84</text>\n",
       "<text text-anchor=\"middle\" x=\"753\" y=\"-156.8\" font-family=\"Helvetica,sans-Serif\" font-size=\"14.00\">gini = 0.242</text>\n",
       "<text text-anchor=\"middle\" x=\"753\" y=\"-141.8\" font-family=\"Helvetica,sans-Serif\" font-size=\"14.00\">samples = 1619</text>\n",
       "<text text-anchor=\"middle\" x=\"753\" y=\"-126.8\" font-family=\"Helvetica,sans-Serif\" font-size=\"14.00\">value = [1391, 228]</text>\n",
       "<text text-anchor=\"middle\" x=\"753\" y=\"-111.8\" font-family=\"Helvetica,sans-Serif\" font-size=\"14.00\">class = no</text>\n",
       "</g>\n",
       "<!-- 6&#45;&gt;10 -->\n",
       "<g id=\"edge10\" class=\"edge\">\n",
       "<title>6&#45;&gt;10</title>\n",
       "<path fill=\"none\" stroke=\"black\" d=\"M593,-222.91C615.7,-212.07 640.29,-200.32 663.23,-189.37\"/>\n",
       "<polygon fill=\"black\" stroke=\"black\" points=\"664.76,-192.52 672.27,-185.05 661.74,-186.2 664.76,-192.52\"/>\n",
       "</g>\n",
       "<!-- 8 -->\n",
       "<g id=\"node9\" class=\"node\">\n",
       "<title>8</title>\n",
       "<path fill=\"#f8e0ce\" stroke=\"black\" d=\"M482,-68C482,-68 348,-68 348,-68 342,-68 336,-62 336,-56 336,-56 336,-12 336,-12 336,-6 342,0 348,0 348,0 482,0 482,0 488,0 494,-6 494,-12 494,-12 494,-56 494,-56 494,-62 488,-68 482,-68\"/>\n",
       "<text text-anchor=\"middle\" x=\"415\" y=\"-52.8\" font-family=\"Helvetica,sans-Serif\" font-size=\"14.00\">gini = 0.49</text>\n",
       "<text text-anchor=\"middle\" x=\"415\" y=\"-37.8\" font-family=\"Helvetica,sans-Serif\" font-size=\"14.00\">samples = 2184</text>\n",
       "<text text-anchor=\"middle\" x=\"415\" y=\"-22.8\" font-family=\"Helvetica,sans-Serif\" font-size=\"14.00\">value = [1248, 936]</text>\n",
       "<text text-anchor=\"middle\" x=\"415\" y=\"-7.8\" font-family=\"Helvetica,sans-Serif\" font-size=\"14.00\">class = no</text>\n",
       "</g>\n",
       "<!-- 7&#45;&gt;8 -->\n",
       "<g id=\"edge8\" class=\"edge\">\n",
       "<title>7&#45;&gt;8</title>\n",
       "<path fill=\"none\" stroke=\"black\" d=\"M473.37,-103.73C465.7,-94.7 457.57,-85.12 449.89,-76.08\"/>\n",
       "<polygon fill=\"black\" stroke=\"black\" points=\"452.42,-73.66 443.28,-68.3 447.09,-78.19 452.42,-73.66\"/>\n",
       "</g>\n",
       "<!-- 9 -->\n",
       "<g id=\"node10\" class=\"node\">\n",
       "<title>9</title>\n",
       "<path fill=\"#a0d0f3\" stroke=\"black\" d=\"M648.5,-68C648.5,-68 523.5,-68 523.5,-68 517.5,-68 511.5,-62 511.5,-56 511.5,-56 511.5,-12 511.5,-12 511.5,-6 517.5,0 523.5,0 523.5,0 648.5,0 648.5,0 654.5,0 660.5,-6 660.5,-12 660.5,-12 660.5,-56 660.5,-56 660.5,-62 654.5,-68 648.5,-68\"/>\n",
       "<text text-anchor=\"middle\" x=\"586\" y=\"-52.8\" font-family=\"Helvetica,sans-Serif\" font-size=\"14.00\">gini = 0.45</text>\n",
       "<text text-anchor=\"middle\" x=\"586\" y=\"-37.8\" font-family=\"Helvetica,sans-Serif\" font-size=\"14.00\">samples = 433</text>\n",
       "<text text-anchor=\"middle\" x=\"586\" y=\"-22.8\" font-family=\"Helvetica,sans-Serif\" font-size=\"14.00\">value = [148, 285]</text>\n",
       "<text text-anchor=\"middle\" x=\"586\" y=\"-7.8\" font-family=\"Helvetica,sans-Serif\" font-size=\"14.00\">class = yes</text>\n",
       "</g>\n",
       "<!-- 7&#45;&gt;9 -->\n",
       "<g id=\"edge9\" class=\"edge\">\n",
       "<title>7&#45;&gt;9</title>\n",
       "<path fill=\"none\" stroke=\"black\" d=\"M537.04,-103.73C543.35,-94.88 550.02,-85.51 556.35,-76.63\"/>\n",
       "<polygon fill=\"black\" stroke=\"black\" points=\"559.33,-78.48 562.28,-68.3 553.63,-74.41 559.33,-78.48\"/>\n",
       "</g>\n",
       "<!-- 11 -->\n",
       "<g id=\"node12\" class=\"node\">\n",
       "<title>11</title>\n",
       "<path fill=\"#e68742\" stroke=\"black\" d=\"M815.5,-68C815.5,-68 690.5,-68 690.5,-68 684.5,-68 678.5,-62 678.5,-56 678.5,-56 678.5,-12 678.5,-12 678.5,-6 684.5,0 690.5,0 690.5,0 815.5,0 815.5,0 821.5,0 827.5,-6 827.5,-12 827.5,-12 827.5,-56 827.5,-56 827.5,-62 821.5,-68 815.5,-68\"/>\n",
       "<text text-anchor=\"middle\" x=\"753\" y=\"-52.8\" font-family=\"Helvetica,sans-Serif\" font-size=\"14.00\">gini = 0.085</text>\n",
       "<text text-anchor=\"middle\" x=\"753\" y=\"-37.8\" font-family=\"Helvetica,sans-Serif\" font-size=\"14.00\">samples = 1370</text>\n",
       "<text text-anchor=\"middle\" x=\"753\" y=\"-22.8\" font-family=\"Helvetica,sans-Serif\" font-size=\"14.00\">value = [1309, 61]</text>\n",
       "<text text-anchor=\"middle\" x=\"753\" y=\"-7.8\" font-family=\"Helvetica,sans-Serif\" font-size=\"14.00\">class = no</text>\n",
       "</g>\n",
       "<!-- 10&#45;&gt;11 -->\n",
       "<g id=\"edge11\" class=\"edge\">\n",
       "<title>10&#45;&gt;11</title>\n",
       "<path fill=\"none\" stroke=\"black\" d=\"M753,-103.73C753,-95.52 753,-86.86 753,-78.56\"/>\n",
       "<polygon fill=\"black\" stroke=\"black\" points=\"756.5,-78.3 753,-68.3 749.5,-78.3 756.5,-78.3\"/>\n",
       "</g>\n",
       "<!-- 12 -->\n",
       "<g id=\"node13\" class=\"node\">\n",
       "<title>12</title>\n",
       "<path fill=\"#9acdf2\" stroke=\"black\" d=\"M974,-68C974,-68 858,-68 858,-68 852,-68 846,-62 846,-56 846,-56 846,-12 846,-12 846,-6 852,0 858,0 858,0 974,0 974,0 980,0 986,-6 986,-12 986,-12 986,-56 986,-56 986,-62 980,-68 974,-68\"/>\n",
       "<text text-anchor=\"middle\" x=\"916\" y=\"-52.8\" font-family=\"Helvetica,sans-Serif\" font-size=\"14.00\">gini = 0.442</text>\n",
       "<text text-anchor=\"middle\" x=\"916\" y=\"-37.8\" font-family=\"Helvetica,sans-Serif\" font-size=\"14.00\">samples = 249</text>\n",
       "<text text-anchor=\"middle\" x=\"916\" y=\"-22.8\" font-family=\"Helvetica,sans-Serif\" font-size=\"14.00\">value = [82, 167]</text>\n",
       "<text text-anchor=\"middle\" x=\"916\" y=\"-7.8\" font-family=\"Helvetica,sans-Serif\" font-size=\"14.00\">class = yes</text>\n",
       "</g>\n",
       "<!-- 10&#45;&gt;12 -->\n",
       "<g id=\"edge12\" class=\"edge\">\n",
       "<title>10&#45;&gt;12</title>\n",
       "<path fill=\"none\" stroke=\"black\" d=\"M813.7,-103.73C828.3,-93.92 843.86,-83.46 858.32,-73.75\"/>\n",
       "<polygon fill=\"black\" stroke=\"black\" points=\"860.34,-76.61 866.69,-68.13 856.44,-70.8 860.34,-76.61\"/>\n",
       "</g>\n",
       "</g>\n",
       "</svg>\n"
      ],
      "text/plain": [
       "<graphviz.sources.Source at 0x7f90f88e5af0>"
      ]
     },
     "execution_count": 27,
     "metadata": {},
     "output_type": "execute_result"
    }
   ],
   "source": [
    "features = x.columns\n",
    "dot_data = export_graphviz(model, out_file=None, filled=True, rounded=True, feature_names = features, class_names = ['no', 'yes'])\n",
    "grafico = graphviz.Source(dot_data)\n",
    "grafico"
   ]
  },
  {
   "cell_type": "code",
   "execution_count": null,
   "id": "7d25b298",
   "metadata": {},
   "outputs": [],
   "source": []
  }
 ],
 "metadata": {
  "hide_input": false,
  "kernelspec": {
   "display_name": "Python 3 (ipykernel)",
   "language": "python",
   "name": "python3"
  },
  "language_info": {
   "codemirror_mode": {
    "name": "ipython",
    "version": 3
   },
   "file_extension": ".py",
   "mimetype": "text/x-python",
   "name": "python",
   "nbconvert_exporter": "python",
   "pygments_lexer": "ipython3",
   "version": "3.8.10"
  },
  "toc": {
   "base_numbering": 1,
   "nav_menu": {},
   "number_sections": true,
   "sideBar": true,
   "skip_h1_title": false,
   "title_cell": "Table of Contents",
   "title_sidebar": "Contents",
   "toc_cell": false,
   "toc_position": {},
   "toc_section_display": true,
   "toc_window_display": false
  }
 },
 "nbformat": 4,
 "nbformat_minor": 5
}
