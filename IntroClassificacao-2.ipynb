{
 "cells": [
  {
   "cell_type": "markdown",
   "id": "d4d355de",
   "metadata": {},
   "source": [
    "# Introdução a Modelos de Classicação - Parte 2"
   ]
  },
  {
   "cell_type": "code",
   "execution_count": 32,
   "id": "11b044d9",
   "metadata": {
    "ExecuteTime": {
     "end_time": "2022-01-21T19:16:38.631934Z",
     "start_time": "2022-01-21T19:16:38.629552Z"
    }
   },
   "outputs": [],
   "source": [
    "import pandas as pd"
   ]
  },
  {
   "cell_type": "code",
   "execution_count": 33,
   "id": "1ee2edd7",
   "metadata": {
    "ExecuteTime": {
     "end_time": "2022-01-21T19:16:38.961594Z",
     "start_time": "2022-01-21T19:16:38.852563Z"
    }
   },
   "outputs": [],
   "source": [
    "uri = 'https://gist.githubusercontent.com/guilhermesilveira/2d2efa37d66b6c84a722ea627a897ced/raw/10968b997d885cbded1c92938c7a9912ba41c615/tracking.csv'\n",
    "\n",
    "dados = pd.read_csv(uri)"
   ]
  },
  {
   "cell_type": "code",
   "execution_count": 34,
   "id": "877566ab",
   "metadata": {
    "ExecuteTime": {
     "end_time": "2022-01-21T19:16:39.061017Z",
     "start_time": "2022-01-21T19:16:39.056380Z"
    }
   },
   "outputs": [],
   "source": [
    "x = dados[['home', 'how_it_works', 'contact']]\n",
    "y = dados['bought']"
   ]
  },
  {
   "cell_type": "code",
   "execution_count": 35,
   "id": "76dd1a9f",
   "metadata": {
    "ExecuteTime": {
     "end_time": "2022-01-21T19:16:39.440158Z",
     "start_time": "2022-01-21T19:16:39.430384Z"
    }
   },
   "outputs": [],
   "source": [
    "x_train = x[:75]\n",
    "y_train = y[:75]\n",
    "\n",
    "x_test = x[75:]\n",
    "y_test = y[75:]"
   ]
  },
  {
   "cell_type": "code",
   "execution_count": 36,
   "id": "265cb0ec",
   "metadata": {
    "ExecuteTime": {
     "end_time": "2022-01-21T19:16:39.728557Z",
     "start_time": "2022-01-21T19:16:39.721736Z"
    }
   },
   "outputs": [],
   "source": [
    "from sklearn.svm import LinearSVC\n",
    "from sklearn.metrics import accuracy_score\n",
    "from sklearn.model_selection import train_test_split"
   ]
  },
  {
   "cell_type": "code",
   "execution_count": 43,
   "id": "ac94f4fe",
   "metadata": {
    "ExecuteTime": {
     "end_time": "2022-01-21T19:19:57.327706Z",
     "start_time": "2022-01-21T19:19:57.321014Z"
    }
   },
   "outputs": [],
   "source": [
    "seed = 20\n",
    "x_train, x_test, y_train, y_test = train_test_split(x, y, test_size=0.25, random_state = seed, stratify = y)"
   ]
  },
  {
   "cell_type": "code",
   "execution_count": 44,
   "id": "e580194d",
   "metadata": {
    "ExecuteTime": {
     "end_time": "2022-01-21T19:19:57.666018Z",
     "start_time": "2022-01-21T19:19:57.646769Z"
    }
   },
   "outputs": [
    {
     "data": {
      "text/plain": [
       "96.0"
      ]
     },
     "execution_count": 44,
     "metadata": {},
     "output_type": "execute_result"
    }
   ],
   "source": [
    "model = LinearSVC()\n",
    "model.fit(x_train, y_train)\n",
    "previsoes = model.predict(x_test)\n",
    "\n",
    "accuracy_score(y_test, previsoes)*100"
   ]
  },
  {
   "cell_type": "code",
   "execution_count": null,
   "id": "0512e22e",
   "metadata": {},
   "outputs": [],
   "source": []
  }
 ],
 "metadata": {
  "hide_input": false,
  "kernelspec": {
   "display_name": "Python 3 (ipykernel)",
   "language": "python",
   "name": "python3"
  },
  "language_info": {
   "codemirror_mode": {
    "name": "ipython",
    "version": 3
   },
   "file_extension": ".py",
   "mimetype": "text/x-python",
   "name": "python",
   "nbconvert_exporter": "python",
   "pygments_lexer": "ipython3",
   "version": "3.8.10"
  },
  "toc": {
   "base_numbering": 1,
   "nav_menu": {},
   "number_sections": true,
   "sideBar": true,
   "skip_h1_title": false,
   "title_cell": "Table of Contents",
   "title_sidebar": "Contents",
   "toc_cell": false,
   "toc_position": {},
   "toc_section_display": true,
   "toc_window_display": false
  }
 },
 "nbformat": 4,
 "nbformat_minor": 5
}
